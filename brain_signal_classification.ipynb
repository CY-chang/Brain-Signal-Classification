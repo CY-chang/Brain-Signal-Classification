{
  "nbformat": 4,
  "nbformat_minor": 0,
  "metadata": {
    "colab": {
      "provenance": [],
      "include_colab_link": true
    },
    "kernelspec": {
      "name": "python3",
      "display_name": "Python 3"
    },
    "language_info": {
      "name": "python"
    },
    "gpuClass": "standard"
  },
  "cells": [
    {
      "cell_type": "markdown",
      "metadata": {
        "id": "view-in-github",
        "colab_type": "text"
      },
      "source": [
        "<a href=\"https://colab.research.google.com/github/CY-chang/Brain-Signal-Classification/blob/main/brain_signal_classification.ipynb\" target=\"_parent\"><img src=\"https://colab.research.google.com/assets/colab-badge.svg\" alt=\"Open In Colab\"/></a>"
      ]
    },
    {
      "cell_type": "markdown",
      "source": [
        "(optional)"
      ],
      "metadata": {
        "id": "4hiUrTp2g31d"
      }
    },
    {
      "cell_type": "code",
      "execution_count": 1,
      "metadata": {
        "id": "02ixxyXJQRNO"
      },
      "outputs": [],
      "source": [
        "from google.colab import drive\n",
        "import os"
      ]
    },
    {
      "cell_type": "code",
      "source": [
        "os.chdir('/content/drive/MyDrive')\n"
      ],
      "metadata": {
        "id": "cwb1U7JElJPa"
      },
      "execution_count": 2,
      "outputs": []
    },
    {
      "cell_type": "markdown",
      "source": [
        "# **HW5: Brain signal classification**\n",
        "In *HW 5*, you need to finish:\n",
        "\n",
        "1.  Model Implementation Part: Implement LSTM and EEGNet models to predict the label of each samples.\n",
        "\n",
        "2.  Model Competition Part: Implementing a model to reach better accuracy performance."
      ],
      "metadata": {
        "id": "CQX9eCfIcRAn"
      }
    },
    {
      "cell_type": "code",
      "source": [
        "import numpy as np\n",
        "import os\n",
        "import math\n",
        "import csv\n",
        "import matplotlib.pyplot as plt\n",
        "# Import the packages you need here\n",
        "\n",
        "import tensorflow as tf\n",
        "from tensorflow.keras import layers, models, activations\n",
        "from tensorflow.keras.layers import Embedding, LSTM, Dense, Dropout\n",
        "from tensorflow.keras.models import Sequential\n"
      ],
      "metadata": {
        "id": "BKJDTLRvQrnY"
      },
      "execution_count": 3,
      "outputs": []
    },
    {
      "cell_type": "code",
      "source": [
        "data = np.load('data.npz')\n",
        "label = np.load('label.npz')\n"
      ],
      "metadata": {
        "id": "ZQQylnWHQ4yy"
      },
      "execution_count": 4,
      "outputs": []
    },
    {
      "cell_type": "code",
      "source": [
        "X_train = data['X_train']\n",
        "X_val = data['X_val']\n",
        "X_test = data['X_test']\n",
        "\n",
        "Y_train = label['Y_train']\n",
        "Y_val = label['Y_val']"
      ],
      "metadata": {
        "id": "3Ype-nIkQ-bf"
      },
      "execution_count": 5,
      "outputs": []
    },
    {
      "cell_type": "code",
      "source": [
        "X_train.shape, X_val.shape, X_test.shape"
      ],
      "metadata": {
        "id": "xjPvKG_im7mV",
        "colab": {
          "base_uri": "https://localhost:8080/"
        },
        "outputId": "fb034e9a-7308-4e3b-ef18-3035cfd85341"
      },
      "execution_count": 6,
      "outputs": [
        {
          "output_type": "execute_result",
          "data": {
            "text/plain": [
              "((604, 22, 200), (152, 22, 200), (190, 22, 200))"
            ]
          },
          "metadata": {},
          "execution_count": 6
        }
      ]
    },
    {
      "cell_type": "code",
      "source": [
        "Y_train.shape, Y_val.shape"
      ],
      "metadata": {
        "colab": {
          "base_uri": "https://localhost:8080/"
        },
        "id": "X7apA2_-lBjF",
        "outputId": "48fa9c8c-cda6-4336-a99a-65dacbc656d8"
      },
      "execution_count": 7,
      "outputs": [
        {
          "output_type": "execute_result",
          "data": {
            "text/plain": [
              "((604, 1), (152, 1))"
            ]
          },
          "metadata": {},
          "execution_count": 7
        }
      ]
    },
    {
      "cell_type": "markdown",
      "source": [
        "## Model Implementation Part"
      ],
      "metadata": {
        "id": "diYYd3e7eopi"
      }
    },
    {
      "cell_type": "markdown",
      "source": [
        "### LSTM"
      ],
      "metadata": {
        "id": "97BpHWOAevWJ"
      }
    },
    {
      "cell_type": "code",
      "source": [
        "# Build your model here:\n",
        "model = Sequential()\n",
        "#model.add(layers.Embedding(200, 10, input_length=22))\n",
        "model.add(tf.keras.Input(shape=(22, 200)))\n",
        "model.add(layers.LSTM(200))\n",
        "model.add(layers.Dense(6))\n",
        "\n",
        "model.summary()\n",
        "\n",
        "model.compile(tf.keras.optimizers.Adam(learning_rate = 1e-3),\n",
        "       loss=tf.keras.losses.SparseCategoricalCrossentropy(from_logits=True),\n",
        "       metrics=['accuracy'])\n",
        "history = model.fit(X_train, Y_train, epochs=10,\n",
        "           validation_data=(X_val, Y_val))\n",
        "\n",
        "plt.plot(history.history['loss'], label='train_loss')\n",
        "plt.plot(history.history['val_loss'], label = 'val_loss')\n",
        "plt.xlabel('Epoch')\n",
        "plt.ylabel('Loss')\n",
        "plt.ylim([0, 2])\n",
        "plt.title('LSTM model loss')\n",
        "plt.legend(loc='lower right')\n",
        "test_loss, test_acc = model.evaluate(X_val, Y_val, verbose=2)\n",
        "\n",
        "print(test_acc)"
      ],
      "metadata": {
        "id": "xxFGe6YRe7qn",
        "colab": {
          "base_uri": "https://localhost:8080/",
          "height": 1000
        },
        "outputId": "4c38f827-2209-4d19-85e6-79ef896df244"
      },
      "execution_count": 8,
      "outputs": [
        {
          "output_type": "stream",
          "name": "stdout",
          "text": [
            "Model: \"sequential\"\n",
            "_________________________________________________________________\n",
            " Layer (type)                Output Shape              Param #   \n",
            "=================================================================\n",
            " lstm (LSTM)                 (None, 200)               320800    \n",
            "                                                                 \n",
            " dense (Dense)               (None, 6)                 1206      \n",
            "                                                                 \n",
            "=================================================================\n",
            "Total params: 322006 (1.23 MB)\n",
            "Trainable params: 322006 (1.23 MB)\n",
            "Non-trainable params: 0 (0.00 Byte)\n",
            "_________________________________________________________________\n",
            "Epoch 1/10\n",
            "19/19 [==============================] - 9s 234ms/step - loss: 1.2301 - accuracy: 0.4983 - val_loss: 0.9206 - val_accuracy: 0.6250\n",
            "Epoch 2/10\n",
            "19/19 [==============================] - 2s 111ms/step - loss: 0.6010 - accuracy: 0.8129 - val_loss: 0.7514 - val_accuracy: 0.7105\n",
            "Epoch 3/10\n",
            "19/19 [==============================] - 2s 90ms/step - loss: 0.3163 - accuracy: 0.9570 - val_loss: 0.6470 - val_accuracy: 0.7566\n",
            "Epoch 4/10\n",
            "19/19 [==============================] - 2s 107ms/step - loss: 0.1617 - accuracy: 0.9934 - val_loss: 0.6606 - val_accuracy: 0.7368\n",
            "Epoch 5/10\n",
            "19/19 [==============================] - 1s 49ms/step - loss: 0.0807 - accuracy: 1.0000 - val_loss: 0.6503 - val_accuracy: 0.7368\n",
            "Epoch 6/10\n",
            "19/19 [==============================] - 1s 49ms/step - loss: 0.0402 - accuracy: 1.0000 - val_loss: 0.5850 - val_accuracy: 0.7500\n",
            "Epoch 7/10\n",
            "19/19 [==============================] - 1s 49ms/step - loss: 0.0237 - accuracy: 1.0000 - val_loss: 0.6224 - val_accuracy: 0.7566\n",
            "Epoch 8/10\n",
            "19/19 [==============================] - 1s 57ms/step - loss: 0.0160 - accuracy: 1.0000 - val_loss: 0.6202 - val_accuracy: 0.7763\n",
            "Epoch 9/10\n",
            "19/19 [==============================] - 2s 81ms/step - loss: 0.0120 - accuracy: 1.0000 - val_loss: 0.6163 - val_accuracy: 0.7829\n",
            "Epoch 10/10\n",
            "19/19 [==============================] - 2s 81ms/step - loss: 0.0095 - accuracy: 1.0000 - val_loss: 0.6223 - val_accuracy: 0.7763\n",
            "5/5 - 0s - loss: 0.6223 - accuracy: 0.7763 - 167ms/epoch - 33ms/step\n",
            "0.7763158082962036\n"
          ]
        },
        {
          "output_type": "display_data",
          "data": {
            "text/plain": [
              "<Figure size 640x480 with 1 Axes>"
            ],
            "image/png": "[encoded data removed]"
          },
          "metadata": {}
        }
      ]
    },
    {
      "cell_type": "code",
      "source": [
        "pred_test = model.predict(X_test)\n",
        "output = np.argmax(pred_test, axis = 1)\n",
        "output = output.reshape((190, 1))\n",
        "\n",
        "assert(output.shape == (190, 1))\n",
        "np.savetxt('lstm_output.csv', output, delimiter=\",\")"
      ],
      "metadata": {
        "id": "sIXH_6BHjm6w",
        "colab": {
          "base_uri": "https://localhost:8080/"
        },
        "outputId": "56d7865d-1283-444c-d165-f1b8085392a9"
      },
      "execution_count": 9,
      "outputs": [
        {
          "output_type": "stream",
          "name": "stdout",
          "text": [
            "6/6 [==============================] - 1s 18ms/step\n"
          ]
        }
      ]
    },
    {
      "cell_type": "markdown",
      "source": [
        "### EEGNet"
      ],
      "metadata": {
        "id": "xSGZPbDHrfOr"
      }
    },
    {
      "cell_type": "code",
      "source": [
        "# Build your model here:\n",
        "\n",
        "D = 2\n",
        "F1 = 8\n",
        "F2 = 16\n",
        "C = 22 #number of channels\n",
        "p = 0.5 # dropout rate\n",
        "N = 6 #number of classes\n",
        "T = 200 # number of time points\n",
        "model = Sequential()\n",
        "\n",
        "#block1\n",
        "model.add(layers.Reshape((C, T, 1), input_shape=(C, T)))\n",
        "model.add(layers.Conv2D(F1, (1, 64), activation='linear', padding='same'))\n",
        "model.add(layers.BatchNormalization())\n",
        "model.add(layers.DepthwiseConv2D((C, 1), padding='valid', depth_multiplier=D, depthwise_constraint=tf.keras.constraints.MaxNorm(max_value=1)))\n",
        "model.add(layers.BatchNormalization())\n",
        "model.add(layers.Activation(activations.elu))\n",
        "model.add(layers.AveragePooling2D((1, 4)))\n",
        "model.add(Dropout(p))\n",
        "\n",
        "#block2\n",
        "model.add(layers.SeparableConv2D(filters=F2, kernel_size=(1, 16), padding='same', activation='linear'))\n",
        "model.add(layers.BatchNormalization())\n",
        "model.add(layers.Activation(activations.elu))\n",
        "model.add(layers.AveragePooling2D((1, 8)))\n",
        "model.add(Dropout(p))\n",
        "model.add(layers.Flatten())\n",
        "\n",
        "model.add(layers.Dense(units=6, activation='softmax', kernel_constraint=tf.keras.constraints.MaxNorm(max_value=2)))\n",
        "\n",
        "model.summary()\n",
        "\n",
        "\n",
        "model.compile(tf.keras.optimizers.Adam(learning_rate = 1e-3),\n",
        "       loss=tf.keras.losses.SparseCategoricalCrossentropy(),\n",
        "       metrics=['accuracy'])\n",
        "history = model.fit(X_train, Y_train, epochs=40,\n",
        "           validation_data=(X_val, Y_val))\n",
        "\n",
        "plt.plot(history.history['loss'], label='train_loss')\n",
        "plt.plot(history.history['val_loss'], label = 'val_loss')\n",
        "plt.xlabel('Epoch')\n",
        "plt.ylabel('Loss')\n",
        "plt.ylim([0, 2])\n",
        "plt.title('EEG Net model loss')\n",
        "plt.legend(loc='lower right')\n",
        "test_loss, test_acc = model.evaluate(X_val, Y_val, verbose=2)\n",
        "\n",
        "print(test_acc)\n",
        "\n"
      ],
      "metadata": {
        "id": "OCUyBSH1hvqG",
        "colab": {
          "base_uri": "https://localhost:8080/",
          "height": 1000
        },
        "outputId": "c41acec4-d1cf-4989-8ffe-f750ce7e6512"
      },
      "execution_count": 10,
      "outputs": [
        {
          "output_type": "stream",
          "name": "stdout",
          "text": [
            "Model: \"sequential_1\"\n",
            "_________________________________________________________________\n",
            " Layer (type)                Output Shape              Param #   \n",
            "=================================================================\n",
            " reshape (Reshape)           (None, 22, 200, 1)        0         \n",
            "                                                                 \n",
            " conv2d (Conv2D)             (None, 22, 200, 8)        520       \n",
            "                                                                 \n",
            " batch_normalization (Batch  (None, 22, 200, 8)        32        \n",
            " Normalization)                                                  \n",
            "                                                                 \n",
            " depthwise_conv2d (Depthwis  (None, 1, 200, 16)        368       \n",
            " eConv2D)                                                        \n",
            "                                                                 \n",
            " batch_normalization_1 (Bat  (None, 1, 200, 16)        64        \n",
            " chNormalization)                                                \n",
            "                                                                 \n",
            " activation (Activation)     (None, 1, 200, 16)        0         \n",
            "                                                                 \n",
            " average_pooling2d (Average  (None, 1, 50, 16)         0         \n",
            " Pooling2D)                                                      \n",
            "                                                                 \n",
            " dropout (Dropout)           (None, 1, 50, 16)         0         \n",
            "                                                                 \n",
            " separable_conv2d (Separabl  (None, 1, 50, 16)         528       \n",
            " eConv2D)                                                        \n",
            "                                                                 \n",
            " batch_normalization_2 (Bat  (None, 1, 50, 16)         64        \n",
            " chNormalization)                                                \n",
            "                                                                 \n",
            " activation_1 (Activation)   (None, 1, 50, 16)         0         \n",
            "                                                                 \n",
            " average_pooling2d_1 (Avera  (None, 1, 6, 16)          0         \n",
            " gePooling2D)                                                    \n",
            "                                                                 \n",
            " dropout_1 (Dropout)         (None, 1, 6, 16)          0         \n",
            "                                                                 \n",
            " flatten (Flatten)           (None, 96)                0         \n",
            "                                                                 \n",
            " dense_1 (Dense)             (None, 6)                 582       \n",
            "                                                                 \n",
            "=================================================================\n",
            "Total params: 2158 (8.43 KB)\n",
            "Trainable params: 2078 (8.12 KB)\n",
            "Non-trainable params: 80 (320.00 Byte)\n",
            "_________________________________________________________________\n",
            "Epoch 1/40\n",
            "19/19 [==============================] - 5s 154ms/step - loss: 1.6493 - accuracy: 0.2964 - val_loss: 1.4414 - val_accuracy: 0.5592\n",
            "Epoch 2/40\n",
            "19/19 [==============================] - 3s 148ms/step - loss: 1.3872 - accuracy: 0.4801 - val_loss: 1.3432 - val_accuracy: 0.6776\n",
            "Epoch 3/40\n",
            "19/19 [==============================] - 4s 204ms/step - loss: 1.1461 - accuracy: 0.5993 - val_loss: 1.2334 - val_accuracy: 0.7237\n",
            "Epoch 4/40\n",
            "19/19 [==============================] - 3s 171ms/step - loss: 0.9707 - accuracy: 0.6772 - val_loss: 1.1104 - val_accuracy: 0.7895\n",
            "Epoch 5/40\n",
            "19/19 [==============================] - 3s 139ms/step - loss: 0.8407 - accuracy: 0.6954 - val_loss: 0.9883 - val_accuracy: 0.8618\n",
            "Epoch 6/40\n",
            "19/19 [==============================] - 3s 144ms/step - loss: 0.7069 - accuracy: 0.7583 - val_loss: 0.8743 - val_accuracy: 0.8947\n",
            "Epoch 7/40\n",
            "19/19 [==============================] - 3s 145ms/step - loss: 0.5910 - accuracy: 0.8113 - val_loss: 0.7599 - val_accuracy: 0.9013\n",
            "Epoch 8/40\n",
            "19/19 [==============================] - 5s 251ms/step - loss: 0.5633 - accuracy: 0.8030 - val_loss: 0.6483 - val_accuracy: 0.9145\n",
            "Epoch 9/40\n",
            "19/19 [==============================] - 3s 144ms/step - loss: 0.4797 - accuracy: 0.8493 - val_loss: 0.5474 - val_accuracy: 0.9211\n",
            "Epoch 10/40\n",
            "19/19 [==============================] - 3s 146ms/step - loss: 0.4239 - accuracy: 0.8709 - val_loss: 0.4620 - val_accuracy: 0.9342\n",
            "Epoch 11/40\n",
            "19/19 [==============================] - 3s 145ms/step - loss: 0.3844 - accuracy: 0.8692 - val_loss: 0.3876 - val_accuracy: 0.9474\n",
            "Epoch 12/40\n",
            "19/19 [==============================] - 4s 197ms/step - loss: 0.3434 - accuracy: 0.8990 - val_loss: 0.3416 - val_accuracy: 0.9539\n",
            "Epoch 13/40\n",
            "19/19 [==============================] - 3s 174ms/step - loss: 0.2688 - accuracy: 0.9205 - val_loss: 0.2904 - val_accuracy: 0.9539\n",
            "Epoch 14/40\n",
            "19/19 [==============================] - 3s 153ms/step - loss: 0.2778 - accuracy: 0.9172 - val_loss: 0.2644 - val_accuracy: 0.9474\n",
            "Epoch 15/40\n",
            "19/19 [==============================] - 3s 138ms/step - loss: 0.2803 - accuracy: 0.9272 - val_loss: 0.2290 - val_accuracy: 0.9539\n",
            "Epoch 16/40\n",
            "19/19 [==============================] - 3s 138ms/step - loss: 0.2532 - accuracy: 0.9205 - val_loss: 0.2079 - val_accuracy: 0.9539\n",
            "Epoch 17/40\n",
            "19/19 [==============================] - 5s 249ms/step - loss: 0.2567 - accuracy: 0.9172 - val_loss: 0.1843 - val_accuracy: 0.9671\n",
            "Epoch 18/40\n",
            "19/19 [==============================] - 3s 138ms/step - loss: 0.2376 - accuracy: 0.9272 - val_loss: 0.1719 - val_accuracy: 0.9737\n",
            "Epoch 19/40\n",
            "19/19 [==============================] - 3s 146ms/step - loss: 0.2042 - accuracy: 0.9354 - val_loss: 0.1605 - val_accuracy: 0.9605\n",
            "Epoch 20/40\n",
            "19/19 [==============================] - 3s 138ms/step - loss: 0.1906 - accuracy: 0.9487 - val_loss: 0.1413 - val_accuracy: 0.9671\n",
            "Epoch 21/40\n",
            "19/19 [==============================] - 3s 171ms/step - loss: 0.1944 - accuracy: 0.9454 - val_loss: 0.1332 - val_accuracy: 0.9803\n",
            "Epoch 22/40\n",
            "19/19 [==============================] - 4s 199ms/step - loss: 0.1838 - accuracy: 0.9520 - val_loss: 0.1215 - val_accuracy: 0.9737\n",
            "Epoch 23/40\n",
            "19/19 [==============================] - 3s 140ms/step - loss: 0.2057 - accuracy: 0.9371 - val_loss: 0.1226 - val_accuracy: 0.9803\n",
            "Epoch 24/40\n",
            "19/19 [==============================] - 3s 139ms/step - loss: 0.1676 - accuracy: 0.9454 - val_loss: 0.1259 - val_accuracy: 0.9737\n",
            "Epoch 25/40\n",
            "19/19 [==============================] - 3s 139ms/step - loss: 0.1535 - accuracy: 0.9553 - val_loss: 0.1263 - val_accuracy: 0.9737\n",
            "Epoch 26/40\n",
            "19/19 [==============================] - 4s 215ms/step - loss: 0.1804 - accuracy: 0.9437 - val_loss: 0.1323 - val_accuracy: 0.9671\n",
            "Epoch 27/40\n",
            "19/19 [==============================] - 3s 156ms/step - loss: 0.1381 - accuracy: 0.9586 - val_loss: 0.1104 - val_accuracy: 0.9868\n",
            "Epoch 28/40\n",
            "19/19 [==============================] - 3s 146ms/step - loss: 0.1555 - accuracy: 0.9487 - val_loss: 0.1062 - val_accuracy: 0.9737\n",
            "Epoch 29/40\n",
            "19/19 [==============================] - 3s 157ms/step - loss: 0.1391 - accuracy: 0.9603 - val_loss: 0.1080 - val_accuracy: 0.9803\n",
            "Epoch 30/40\n",
            "19/19 [==============================] - 3s 159ms/step - loss: 0.1561 - accuracy: 0.9503 - val_loss: 0.1041 - val_accuracy: 0.9868\n",
            "Epoch 31/40\n",
            "19/19 [==============================] - 4s 231ms/step - loss: 0.1388 - accuracy: 0.9503 - val_loss: 0.0948 - val_accuracy: 0.9934\n",
            "Epoch 32/40\n",
            "19/19 [==============================] - 3s 161ms/step - loss: 0.1493 - accuracy: 0.9536 - val_loss: 0.0860 - val_accuracy: 0.9934\n",
            "Epoch 33/40\n",
            "19/19 [==============================] - 3s 139ms/step - loss: 0.1126 - accuracy: 0.9636 - val_loss: 0.0854 - val_accuracy: 0.9934\n",
            "Epoch 34/40\n",
            "19/19 [==============================] - 3s 145ms/step - loss: 0.1208 - accuracy: 0.9570 - val_loss: 0.0928 - val_accuracy: 0.9868\n",
            "Epoch 35/40\n",
            "19/19 [==============================] - 4s 238ms/step - loss: 0.1141 - accuracy: 0.9685 - val_loss: 0.0939 - val_accuracy: 0.9868\n",
            "Epoch 36/40\n",
            "19/19 [==============================] - 3s 139ms/step - loss: 0.1135 - accuracy: 0.9636 - val_loss: 0.0919 - val_accuracy: 0.9868\n",
            "Epoch 37/40\n",
            "19/19 [==============================] - 3s 146ms/step - loss: 0.1103 - accuracy: 0.9702 - val_loss: 0.0865 - val_accuracy: 0.9934\n",
            "Epoch 38/40\n",
            "19/19 [==============================] - 3s 145ms/step - loss: 0.1177 - accuracy: 0.9685 - val_loss: 0.0892 - val_accuracy: 0.9737\n",
            "Epoch 39/40\n",
            "19/19 [==============================] - 3s 185ms/step - loss: 0.1040 - accuracy: 0.9685 - val_loss: 0.0866 - val_accuracy: 0.9737\n",
            "Epoch 40/40\n",
            "19/19 [==============================] - 4s 193ms/step - loss: 0.1018 - accuracy: 0.9735 - val_loss: 0.0845 - val_accuracy: 0.9737\n",
            "5/5 - 0s - loss: 0.0845 - accuracy: 0.9737 - 199ms/epoch - 40ms/step\n",
            "0.9736841917037964\n"
          ]
        },
        {
          "output_type": "display_data",
          "data": {
            "text/plain": [
              "<Figure size 640x480 with 1 Axes>"
            ],
            "image/png": "[encoded data removed]"
          },
          "metadata": {}
        }
      ]
    },
    {
      "cell_type": "code",
      "source": [
        "pred_test = model.predict(X_test)\n",
        "output = np.argmax(pred_test, axis = 1)\n",
        "output = output.reshape((190, 1))\n",
        "\n",
        "assert(output.shape == (190, 1))\n",
        "np.savetxt('eegnet_output.csv', output, delimiter=\",\")"
      ],
      "metadata": {
        "id": "Ge8jZUU8gve3",
        "colab": {
          "base_uri": "https://localhost:8080/"
        },
        "outputId": "7b72b97b-d99b-4bb3-f38b-cda2dc868c82"
      },
      "execution_count": 11,
      "outputs": [
        {
          "output_type": "stream",
          "name": "stdout",
          "text": [
            "6/6 [==============================] - 0s 41ms/step\n"
          ]
        }
      ]
    },
    {
      "cell_type": "markdown",
      "source": [
        "## Model Competition Part"
      ],
      "metadata": {
        "id": "qnHnQ_yVerBo"
      }
    },
    {
      "cell_type": "code",
      "source": [
        "#output = \"...\"\n",
        "assert(output.shape == (190, 1))\n",
        "np.savetxt('competition_output.csv', output, delimiter=\",\")"
      ],
      "metadata": {
        "id": "m097nvkXiIqY"
      },
      "execution_count": 12,
      "outputs": []
    }
  ]
}